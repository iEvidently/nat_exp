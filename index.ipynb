{
 "cells": [
  {
   "cell_type": "markdown",
   "metadata": {
    "slideshow": {
     "slide_type": "slide"
    }
   },
   "source": [
    "# Methods in Natural Experiment\n",
    "## Weighing Up the Evidence: Making Evidence-Informed Guidance Accurate, Achievable and Acceptable\n",
    "\n"
   ]
  },
  {
   "cell_type": "markdown",
   "metadata": {
    "slideshow": {
     "slide_type": "slide"
    }
   },
   "source": [
    "## Case study - UHC coverage health coverage and Under-five Mortality in microcosm of sub-Saharan Africa\n",
    "\n",
    "## Methods\n",
    "\n",
    "- Meta-analysis\n",
    "- Blinder Oaxaca decomposition analysis\n",
    "- Propensity score matching\n",
    "- Population attributable risk fractions"
   ]
  },
  {
   "cell_type": "markdown",
   "metadata": {
    "slideshow": {
     "slide_type": "slide"
    }
   },
   "source": [
    "## Objectives\n",
    "\n",
    "- To explore whether there is difference in rates of under-five mortality between those with access to UHC health service indicators\n",
    "- To explore the UHC related inequality in the magnitude and determinants of childhood mortality across sub-Saharan Africa\n",
    "- to examine whether no access to UHC is associated with higher childhood mortality  in sub-Saharan Africa\n",
    "- To evaluate and compare childhood mortality attributable to non-access to UHC in four sub-Saharan African countries."
   ]
  },
  {
   "cell_type": "markdown",
   "metadata": {
    "slideshow": {
     "slide_type": "slide"
    }
   },
   "source": [
    "# Part 1: Exploring Association between Childhood Mortality and Access to UHC"
   ]
  },
  {
   "cell_type": "code",
   "execution_count": 1,
   "metadata": {
    "cell_style": "center",
    "slideshow": {
     "slide_type": "slide"
    }
   },
   "outputs": [],
   "source": [
    "use uhc_ssa, clear"
   ]
  },
  {
   "cell_type": "code",
   "execution_count": 2,
   "metadata": {
    "slideshow": {
     "slide_type": "slide"
    }
   },
   "outputs": [
    {
     "name": "stdout",
     "output_type": "stream",
     "text": [
      "\n",
      "       dead |      Freq.     Percent        Cum.\n",
      "------------+-----------------------------------\n",
      "          0 |      6,550       94.90       94.90\n",
      "          1 |        352        5.10      100.00\n",
      "------------+-----------------------------------\n",
      "      Total |      6,902      100.00\n"
     ]
    }
   ],
   "source": [
    "tab dead"
   ]
  },
  {
   "cell_type": "code",
   "execution_count": 3,
   "metadata": {
    "slideshow": {
     "slide_type": "slide"
    }
   },
   "outputs": [
    {
     "name": "stdout",
     "output_type": "stream",
     "text": [
      "\n",
      "       nUHC |      Freq.     Percent        Cum.\n",
      "------------+-----------------------------------\n",
      "          0 |      6,575       95.26       95.26\n",
      "          1 |        327        4.74      100.00\n",
      "------------+-----------------------------------\n",
      "      Total |      6,902      100.00\n"
     ]
    }
   ],
   "source": [
    "tab nUHC"
   ]
  },
  {
   "cell_type": "code",
   "execution_count": 4,
   "metadata": {
    "slideshow": {
     "slide_type": "slide"
    }
   },
   "outputs": [
    {
     "name": "stdout",
     "output_type": "stream",
     "text": [
      "\n",
      "    country |      Freq.     Percent        Cum.\n",
      "------------+-----------------------------------\n",
      "     Angola |      2,168       31.41       31.41\n",
      "      Benin |      2,511       36.38       67.79\n",
      "   Ethiopia |      1,941       28.12       95.91\n",
      "SouthAfrica |        282        4.09      100.00\n",
      "------------+-----------------------------------\n",
      "      Total |      6,902      100.00\n"
     ]
    }
   ],
   "source": [
    "tab country"
   ]
  },
  {
   "cell_type": "code",
   "execution_count": 5,
   "metadata": {
    "slideshow": {
     "slide_type": "slide"
    }
   },
   "outputs": [
    {
     "name": "stdout",
     "output_type": "stream",
     "text": [
      "\n",
      "+----------------+\n",
      "| Key            |\n",
      "|----------------|\n",
      "|   frequency    |\n",
      "| row percentage |\n",
      "+----------------+\n",
      "\n",
      "           |         nUHC\n",
      "      dead |         0          1 |     Total\n",
      "-----------+----------------------+----------\n",
      "         0 |     6,275        275 |     6,550 \n",
      "           |     95.80       4.20 |    100.00 \n",
      "-----------+----------------------+----------\n",
      "         1 |       300         52 |       352 \n",
      "           |     85.23      14.77 |    100.00 \n",
      "-----------+----------------------+----------\n",
      "     Total |     6,575        327 |     6,902 \n",
      "           |     95.26       4.74 |    100.00 \n"
     ]
    }
   ],
   "source": [
    "tab dead nUHC, row"
   ]
  },
  {
   "cell_type": "code",
   "execution_count": 6,
   "metadata": {
    "scrolled": true,
    "slideshow": {
     "slide_type": "slide"
    }
   },
   "outputs": [
    {
     "name": "stdout",
     "output_type": "stream",
     "text": [
      "\n",
      "--------------------------------------------------------------------------------\n",
      "-> country = Angola\n",
      "\n",
      "+----------------+\n",
      "| Key            |\n",
      "|----------------|\n",
      "|   frequency    |\n",
      "| row percentage |\n",
      "+----------------+\n",
      "\n",
      "           |         nUHC\n",
      "      dead |         0          1 |     Total\n",
      "-----------+----------------------+----------\n",
      "         0 |     1,946        120 |     2,066 \n",
      "           |     94.19       5.81 |    100.00 \n",
      "-----------+----------------------+----------\n",
      "         1 |        90         12 |       102 \n",
      "           |     88.24      11.76 |    100.00 \n",
      "-----------+----------------------+----------\n",
      "     Total |     2,036        132 |     2,168 \n",
      "           |     93.91       6.09 |    100.00 \n",
      "\n",
      "--------------------------------------------------------------------------------\n",
      "-> country = Benin\n",
      "\n",
      "+----------------+\n",
      "| Key            |\n",
      "|----------------|\n",
      "|   frequency    |\n",
      "| row percentage |\n",
      "+----------------+\n",
      "\n",
      "           |         nUHC\n",
      "      dead |         0          1 |     Total\n",
      "-----------+----------------------+----------\n",
      "         0 |     2,276         99 |     2,375 \n",
      "           |     95.83       4.17 |    100.00 \n",
      "-----------+----------------------+----------\n",
      "         1 |       109         27 |       136 \n",
      "           |     80.15      19.85 |    100.00 \n",
      "-----------+----------------------+----------\n",
      "     Total |     2,385        126 |     2,511 \n",
      "           |     94.98       5.02 |    100.00 \n",
      "\n",
      "--------------------------------------------------------------------------------\n",
      "-> country = Ethiopia\n",
      "\n",
      "+----------------+\n",
      "| Key            |\n",
      "|----------------|\n",
      "|   frequency    |\n",
      "| row percentage |\n",
      "+----------------+\n",
      "\n",
      "           |         nUHC\n",
      "      dead |         0          1 |     Total\n",
      "-----------+----------------------+----------\n",
      "         0 |     1,791         54 |     1,845 \n",
      "           |     97.07       2.93 |    100.00 \n",
      "-----------+----------------------+----------\n",
      "         1 |        83         13 |        96 \n",
      "           |     86.46      13.54 |    100.00 \n",
      "-----------+----------------------+----------\n",
      "     Total |     1,874         67 |     1,941 \n",
      "           |     96.55       3.45 |    100.00 \n",
      "\n",
      "--------------------------------------------------------------------------------\n",
      "-> country = SouthAfrica\n",
      "\n",
      "+----------------+\n",
      "| Key            |\n",
      "|----------------|\n",
      "|   frequency    |\n",
      "| row percentage |\n",
      "+----------------+\n",
      "\n",
      "           |         nUHC\n",
      "      dead |         0          1 |     Total\n",
      "-----------+----------------------+----------\n",
      "         0 |       262          2 |       264 \n",
      "           |     99.24       0.76 |    100.00 \n",
      "-----------+----------------------+----------\n",
      "         1 |        18          0 |        18 \n",
      "           |    100.00       0.00 |    100.00 \n",
      "-----------+----------------------+----------\n",
      "     Total |       280          2 |       282 \n",
      "           |     99.29       0.71 |    100.00 \n",
      "\n"
     ]
    }
   ],
   "source": [
    "bysort country: tab dead nUHC, row"
   ]
  },
  {
   "cell_type": "code",
   "execution_count": 7,
   "metadata": {
    "slideshow": {
     "slide_type": "slide"
    }
   },
   "outputs": [
    {
     "name": "stdout",
     "output_type": "stream",
     "text": [
      "\n",
      "Maximum likelihood estimate of the odds ratio\n",
      "Comparing nUHC==1 vs. nUHC==0\n",
      "by country\n",
      "\n",
      "-------------------------------------------------------------------------------\n",
      "  country | Odds Ratio        chi2(1)         P>chi2       [95% Conf. Interval]\n",
      "----------+--------------------------------------------------------------------\n",
      "   Angola |   2.162222           6.03         0.0141         1.15050    4.06362\n",
      "    Benin |   5.694746          66.37         0.0000         3.54748    9.14174\n",
      " Ethiopia |   5.194779          30.84         0.0000         2.71299    9.94686\n",
      " SouthAfr |   0.000000           0.14         0.7114               .          .\n",
      "-------------------------------------------------------------------------------\n",
      "\n",
      "    Mantel-Haenszel estimate controlling for country\n",
      "    ----------------------------------------------------------------\n",
      "     Odds Ratio    chi2(1)        P>chi2        [95% Conf. Interval]\n",
      "    ----------------------------------------------------------------\n",
      "       4.032129      84.95        0.0000         2.924684   5.558914\n",
      "    ----------------------------------------------------------------\n",
      "\n",
      "Test of homogeneity of ORs (approx): chi2(3)   =    7.07\n",
      "                                     Pr>chi2   =  0.0696\n"
     ]
    }
   ],
   "source": [
    " mhodds dead nUHC , by(country)"
   ]
  },
  {
   "cell_type": "code",
   "execution_count": null,
   "metadata": {
    "slideshow": {
     "slide_type": "slide"
    }
   },
   "outputs": [],
   "source": [
    "/*STEPS in conducting Binary Data meta-analysis, i.e. mortality (yes or no), hypertensive (yes or no)\n",
    "\n",
    "STEP 1 - LOAD DATA\n",
    "STEP 2 - DECLARE, UPDATE & DESCRIBE meta data\n",
    "STEP 3 - SUMMARIZE meta data by using a TABLE or a FOREST PLOT\n",
    "STEP 4- EXPLORE HETEROGENEITY - SUB-GROUP and META-REGRESSION analysis\n",
    "STEP 5- EXPLORE and ADDRESS SMALL-STUDY EFFECTS*/"
   ]
  },
  {
   "cell_type": "code",
   "execution_count": null,
   "metadata": {
    "slideshow": {
     "slide_type": "slide"
    }
   },
   "outputs": [],
   "source": [
    "Binary-outcome summaries        # of successes (treated)\n",
    "                                # of failures (treated)\n",
    "                                # of successes (controls)\n",
    "                                # of failures (controls)"
   ]
  },
  {
   "cell_type": "code",
   "execution_count": null,
   "metadata": {
    "slideshow": {
     "slide_type": "slide"
    }
   },
   "outputs": [],
   "source": [
    "Binary type\tDescription\n",
    "lnoratio\tlog odds-ratio; the default\n",
    "lnrratio\tlog risk-ratio (also known as log rate ratio and log relative risk\n",
    "rdiff\trisk difference\n",
    "lnorpeto\tPeto’s log odds-ratio"
   ]
  },
  {
   "cell_type": "code",
   "execution_count": 8,
   "metadata": {
    "slideshow": {
     "slide_type": "slide"
    }
   },
   "outputs": [],
   "source": [
    "*Experimental arm\n",
    "gen dead1   = (nUHC == 1) & (dead == 1)\n",
    "gen nodead1 = (nUHC == 1) & (dead == 0)"
   ]
  },
  {
   "cell_type": "code",
   "execution_count": 9,
   "metadata": {
    "slideshow": {
     "slide_type": "slide"
    }
   },
   "outputs": [],
   "source": [
    "*Control arm\n",
    "gen dead0   = (nUHC == 0) & (dead == 1)\n",
    "gen nodead0 = (nUHC == 0) & (dead == 0)"
   ]
  },
  {
   "cell_type": "code",
   "execution_count": 10,
   "metadata": {
    "slideshow": {
     "slide_type": "slide"
    }
   },
   "outputs": [],
   "source": [
    "preserve"
   ]
  },
  {
   "cell_type": "code",
   "execution_count": 11,
   "metadata": {
    "slideshow": {
     "slide_type": "slide"
    }
   },
   "outputs": [],
   "source": [
    "collapse (sum) dead1 nodead1 dead0 nodead0, by(country)"
   ]
  },
  {
   "cell_type": "code",
   "execution_count": 12,
   "metadata": {
    "slideshow": {
     "slide_type": "slide"
    }
   },
   "outputs": [
    {
     "name": "stdout",
     "output_type": "stream",
     "text": [
      "\n",
      "     +-------------------------------------------------+\n",
      "     |     country   dead1   nodead1   dead0   nodead0 |\n",
      "     |-------------------------------------------------|\n",
      "  1. |      Angola      12       120      90      1946 |\n",
      "  2. |       Benin      27        99     109      2276 |\n",
      "  3. |    Ethiopia      13        54      83      1791 |\n",
      "  4. | SouthAfrica       0         2      18       262 |\n",
      "     +-------------------------------------------------+\n"
     ]
    }
   ],
   "source": [
    "list"
   ]
  },
  {
   "cell_type": "code",
   "execution_count": 17,
   "metadata": {
    "slideshow": {
     "slide_type": "slide"
    }
   },
   "outputs": [
    {
     "name": "stdout",
     "output_type": "stream",
     "text": [
      "\n",
      "Meta-analysis setting information\n",
      "\n",
      " Study information\n",
      "    No. of studies:  4\n",
      "       Study label:  country\n",
      "        Study size:  _meta_studysize\n",
      "      Summary data:  dead1 nodead1 dead0 nodead0\n",
      "\n",
      "       Effect size\n",
      "              Type:  lnrratio\n",
      "             Label:  Log Risk-Ratio\n",
      "          Variable:  _meta_es\n",
      "   Zero-cells adj.:  0.5, only0\n",
      "\n",
      "         Precision\n",
      "         Std. Err.:  _meta_se\n",
      "                CI:  [_meta_cil, _meta_ciu]\n",
      "          CI level:  95%\n",
      "\n",
      "  Model and method\n",
      "             Model:  Random-effects\n",
      "            Method:  REML\n"
     ]
    }
   ],
   "source": [
    "meta esize dead1 nodead1 dead0 nodead0, studylabel(country) esize(lnrratio)"
   ]
  },
  {
   "cell_type": "code",
   "execution_count": 14,
   "metadata": {
    "slideshow": {
     "slide_type": "slide"
    }
   },
   "outputs": [
    {
     "name": "stdout",
     "output_type": "stream",
     "text": [
      "\n",
      "  Effect-size label:  Risk Diff.\n",
      "        Effect size:  _meta_es\n",
      "          Std. Err.:  _meta_se\n",
      "        Study label:  country\n",
      "\n",
      "Meta-analysis summary                     Number of studies =      4\n",
      "Fixed-effects model                       Heterogeneity:\n",
      "Method: Mantel-Haenszel                             I2 (%) =   98.11\n",
      "                                                        H2 =   52.85\n",
      "\n",
      "--------------------------------------------------------------------\n",
      "            Study |     Risk Diff.    [95% Conf. Interval]  % Weight\n",
      "------------------+-------------------------------------------------\n",
      "                1 |          0.047      -0.003       0.097     39.95\n",
      "                2 |          0.169       0.096       0.241     38.57\n",
      "                3 |          0.150       0.055       0.245     20.85\n",
      "                4 |         -0.064      -0.093      -0.036      0.64\n",
      "------------------+-------------------------------------------------\n",
      "            theta |          0.114       0.075       0.154\n",
      "--------------------------------------------------------------------\n",
      "Test of theta = 0: z = 5.67                      Prob > |z| = 0.0000\n",
      "Test of homogeneity: Q = chi2(3) = 158.54          Prob > Q = 0.0000\n"
     ]
    }
   ],
   "source": [
    "meta summarize, fixed"
   ]
  },
  {
   "cell_type": "code",
   "execution_count": 15,
   "metadata": {
    "slideshow": {
     "slide_type": "slide"
    }
   },
   "outputs": [
    {
     "name": "stdout",
     "output_type": "stream",
     "text": [
      "\n",
      "\n",
      "  Effect-size label:  Risk Diff.\n",
      "        Effect size:  _meta_es\n",
      "          Std. Err.:  _meta_se\n",
      "        Study label:  country\n"
     ]
    },
    {
     "data": {
      "application/pdf": "[encoded data removed]",
      "text/plain": [
       "This front-end cannot display the desired image type."
      ]
     },
     "metadata": {},
     "output_type": "display_data"
    },
    {
     "name": "stdout",
     "output_type": "stream",
     "text": [
      "\n",
      "\n",
      "\n"
     ]
    }
   ],
   "source": [
    "meta forestplot, random\n",
    "graph display"
   ]
  },
  {
   "cell_type": "code",
   "execution_count": 18,
   "metadata": {
    "slideshow": {
     "slide_type": "slide"
    }
   },
   "outputs": [
    {
     "name": "stdout",
     "output_type": "stream",
     "text": [
      "\n",
      "\n",
      "  Effect-size label:  Log Risk-Ratio\n",
      "        Effect size:  _meta_es\n",
      "          Std. Err.:  _meta_se\n",
      "        Study label:  country\n"
     ]
    },
    {
     "data": {
      "application/pdf": "[encoded data removed]",
      "text/plain": [
       "This front-end cannot display the desired image type."
      ]
     },
     "metadata": {},
     "output_type": "display_data"
    },
    {
     "name": "stdout",
     "output_type": "stream",
     "text": [
      "\n",
      "\n",
      "\n"
     ]
    }
   ],
   "source": [
    "#delimit ;\n",
    "    meta forestplot, random nullrefline \n",
    "    columnopts(_data1, supertitle(No UHC))  \n",
    "    columnopts(_data2, supertitle(UHC)) \n",
    "    columnopts(_a _c, title(Dead)) \n",
    "    columnopts(_b _d, title(Alive));\n",
    "#delimit cr\n",
    "graph display"
   ]
  },
  {
   "cell_type": "markdown",
   "metadata": {
    "slideshow": {
     "slide_type": "slide"
    }
   },
   "source": [
    "# Mind the Gap: What explains the education-related inequality in non-access to Universal Health Coverage health service indicators in sub-Saharan Africa? Compositional and structural characteristics"
   ]
  },
  {
   "cell_type": "markdown",
   "metadata": {
    "slideshow": {
     "slide_type": "slide"
    }
   },
   "source": [
    "- The Blinder-Oaxaca method allows for the decomposition of the difference in an outcome variable between 2 groups into 2 components. \n",
    "\n",
    "- The first component is the “explained” portion of that gap that captures differences in the distributions of the measurable characteristics (referred to as the “compositional” or “endowments”) of these groups.  \n",
    "\n",
    "- Using this method, we can quantify how much of the gap between the “advantaged” and the “disadvantaged” groups is attributable to differences in specific measurable characteristics. \n",
    "\n",
    "- The second component is the “unexplained” part, or structural component which captures the gap due to the differences in the regression coefficients and the unmeasured variables between the two groups. \n",
    "\n",
    "- This reflects the remainder of the model not explained by the differences in measurable, objective characteristics. \n",
    "\n",
    "- The “unexplained” portion arises from differentials in how the predictor variables are associated with the outcomes for the two groups. \n",
    "\n",
    "- This portion would persist even if the disadvantaged group were to attain the same average levels of measured predictor variables as the advantaged group.\n"
   ]
  },
  {
   "cell_type": "code",
   "execution_count": 19,
   "metadata": {
    "slideshow": {
     "slide_type": "slide"
    }
   },
   "outputs": [],
   "source": [
    "use uhc_ssa, clear"
   ]
  },
  {
   "cell_type": "code",
   "execution_count": 20,
   "metadata": {
    "slideshow": {
     "slide_type": "slide"
    }
   },
   "outputs": [],
   "source": [
    "global ind \"kid_male mat_age noed mat_currwork mat_dec3 kid_bord kid_u5c mat_hinsur mat_fhead media_access mat_wealth\"\n",
    "global com \"rural  com_poverty_hl com_uemp_hl com_illit_hl com_diversity_hl\"\n",
    "global country \"country\""
   ]
  },
  {
   "cell_type": "code",
   "execution_count": 30,
   "metadata": {
    "scrolled": true,
    "slideshow": {
     "slide_type": "slide"
    }
   },
   "outputs": [
    {
     "name": "stdout",
     "output_type": "stream",
     "text": [
      "(mat_currwork mat_hinsur dropped from model 1)\n",
      "(mat_currwork mat_hinsur dropped from model 2)\n",
      "(mat_currwork mat_hinsur dropped from pooled model)\n",
      "(mat_currwork mat_hinsur missing in model 1; assumed zero)\n",
      "(mat_currwork mat_hinsur missing in model 2; assumed zero)\n",
      "(mat_currwork mat_hinsur missing in pooled model; assumed zero)\n",
      "\n",
      "Blinder-Oaxaca decomposition                    Number of obs     =      2,957\n",
      "                                                  Model           =      logit\n",
      "Group 1: nUHC = 0                                 N of obs 1      =       2824\n",
      "Group 2: nUHC = 1                                 N of obs 2      =        133\n",
      "\n",
      "-------------------------------------------------------------------------------\n",
      "              |               Robust\n",
      "         dead |      Coef.   Std. Err.      z    P>|z|     [95% Conf. Interval]\n",
      "--------------+----------------------------------------------------------------\n",
      "overall       |\n",
      "      group_1 |   .0453258   .0038436    11.79   0.000     .0377924    .0528591\n",
      "      group_2 |   .2255639   .0353193     6.39   0.000     .1563393    .2947885\n",
      "   difference |  -.1802381   .0355278    -5.07   0.000    -.2498714   -.1106048\n",
      "    explained |  -.0028965   .0055383    -0.52   0.601    -.0137513    .0079583\n",
      "  unexplained |  -.1773417   .0338791    -5.23   0.000    -.2437435   -.1109399\n",
      "--------------+----------------------------------------------------------------\n",
      "explained     |\n",
      "     kid_male |  -.0002422    .000991    -0.24   0.807    -.0021845    .0017001\n",
      "      mat_age |   .0005746    .001802     0.32   0.750    -.0029574    .0041065\n",
      "        noedu |  -.0000145   .0011716    -0.01   0.990    -.0023108    .0022819\n",
      " mat_currwork |          0  (omitted)\n",
      "     mat_dec3 |  -.0001749   .0004316    -0.41   0.685    -.0010208     .000671\n",
      "     kid_bord |  -.0048129   .0041148    -1.17   0.242    -.0128778    .0032519\n",
      "      kid_u5c |   .0116588   .0116477     1.00   0.317    -.0111703    .0344879\n",
      "   mat_hinsur |          0  (omitted)\n",
      "    mat_fhead |  -.0004625   .0006802    -0.68   0.497    -.0017957    .0008707\n",
      " media_access |  -.0026174   .0025424    -1.03   0.303    -.0076005    .0023656\n",
      "   mat_wealth |  -.0051376   .0052101    -0.99   0.324    -.0153491     .005074\n",
      "        rural |  -.0008389   .0018619    -0.45   0.652    -.0044881    .0028103\n",
      "com_poverty~l |   .0002648   .0036713     0.07   0.942    -.0069308    .0074605\n",
      "  com_uemp_hl |  -.0004798   .0011953    -0.40   0.688    -.0028225     .001863\n",
      " com_illit_hl |  -.0011534   .0025186    -0.46   0.647    -.0060897    .0037829\n",
      "com_diversi~l |   .0005394   .0007298     0.74   0.460    -.0008909    .0019698\n",
      "--------------+----------------------------------------------------------------\n",
      "unexplained   |\n",
      "     kid_male |  -.0411926   .0568633    -0.72   0.469    -.1526426    .0702575\n",
      "      mat_age |  -.4588713   .3589051    -1.28   0.201    -1.162312    .2445697\n",
      "        noedu |  -.0929468   .0635427    -1.46   0.144    -.2174882    .0315945\n",
      " mat_currwork |          0  (omitted)\n",
      "     mat_dec3 |  -.0972665   .1178593    -0.83   0.409    -.3282666    .1337335\n",
      "     kid_bord |   .2701812   .1814384     1.49   0.136    -.0854316    .6257939\n",
      "      kid_u5c |   .1327011   .2401243     0.55   0.581    -.3379338     .603336\n",
      "   mat_hinsur |          0  (omitted)\n",
      "    mat_fhead |   .0237703    .019962     1.19   0.234    -.0153545    .0628951\n",
      " media_access |   .0294803   .0373258     0.79   0.430    -.0436769    .1026374\n",
      "   mat_wealth |   .0296085   .0908032     0.33   0.744    -.1483626    .2075795\n",
      "        rural |   .0264509   .0554236     0.48   0.633    -.0821774    .1350792\n",
      "com_poverty~l |   .1718891   .1211329     1.42   0.156    -.0655271    .4093053\n",
      "  com_uemp_hl |  -.0102583   .0256656    -0.40   0.689     -.060562    .0400454\n",
      " com_illit_hl |   .1051063    .073367     1.43   0.152    -.0386903    .2489029\n",
      "com_diversi~l |  -.0121932   .0287966    -0.42   0.672    -.0686335     .044247\n",
      "        _cons |  -.2538006   .2723121    -0.93   0.351    -.7875226    .2799214\n",
      "-------------------------------------------------------------------------------\n"
     ]
    }
   ],
   "source": [
    "oaxaca dead  $ind $com , by(nUHC)   logit   pooled relax"
   ]
  },
  {
   "cell_type": "code",
   "execution_count": 24,
   "metadata": {
    "slideshow": {
     "slide_type": "slide"
    }
   },
   "outputs": [
    {
     "data": {
      "application/pdf": "[encoded data removed]",
      "text/plain": [
       "This front-end cannot display the desired image type."
      ]
     },
     "metadata": {},
     "output_type": "display_data"
    }
   ],
   "source": [
    "coefplot (., keep(explained:*)),  bylabel(\"Explained\") || ///\n",
    "(., keep(unexplained:*)),  bylabel(\"Unexplained\") || , ///\n",
    "drop(*:_cons) recast(bar) barwidth(0.5) citop ciopts(recast(rcap) color(black)) ///\n",
    "byopts(cols(1)) xline(0, lpattern(dash)) xlabel(, grid glstyle(minor_grid) glpattern(dash))\n"
   ]
  },
  {
   "cell_type": "markdown",
   "metadata": {
    "slideshow": {
     "slide_type": "slide"
    }
   },
   "source": [
    "# Does access to UHC reduces childhood mortality ? a natural experiment from microcosm of sub-Saharan Africa"
   ]
  },
  {
   "cell_type": "markdown",
   "metadata": {
    "slideshow": {
     "slide_type": "slide"
    }
   },
   "source": [
    "- We examined the baseline characteristics of the respondents and estimated standardised differences for all variables before and after matching. \n",
    "\n",
    "- A standardised difference of 10% or more is suggestive of imbalance. \n",
    "\n",
    "- We used propensity score methods to account for all measured differences in baseline characteristics between respondents with UHC and those without UHC. \n",
    "\n",
    "- The propensity score approach was used to control for all observed confounding factors that might influence assignment and outcome. \n",
    "\n",
    "- We constructed a sample of patients balanced on covariates and risk factors (listed above). We constructed the propensity scores using a logistic regression. \n",
    "\n",
    "- We then matched each respondent with health insurance with the closest propensity score on a ratio of 1:5 using a nearest neighbour algorithm with no replacement. \n",
    "\n",
    "- We calculated the average treatment effect on insurance patients, which is a measure of the impact of UHC on whether on childhood mortality rate. \n",
    "\n",
    "- We calculated the absolute difference in probability of access of childhood mortality those with and without UHC in the propensity score–matched cohort. \n",
    "\n"
   ]
  },
  {
   "cell_type": "markdown",
   "metadata": {
    "slideshow": {
     "slide_type": "slide"
    }
   },
   "source": [
    "<img src=\"./psm1.jpg\" width=\"500\" height=\"300\" />"
   ]
  },
  {
   "cell_type": "markdown",
   "metadata": {
    "slideshow": {
     "slide_type": "slide"
    }
   },
   "source": [
    "![alt text](./psm2.jpg)"
   ]
  },
  {
   "cell_type": "code",
   "execution_count": 31,
   "metadata": {
    "slideshow": {
     "slide_type": "slide"
    }
   },
   "outputs": [],
   "source": [
    "global factors \"b4.country b1.kid_male b3.mat_cage b5.mat_wealth b2.mat_edu b1.rural b1.mat_currwork b3.media_access\""
   ]
  },
  {
   "cell_type": "code",
   "execution_count": 32,
   "metadata": {
    "slideshow": {
     "slide_type": "slide"
    }
   },
   "outputs": [
    {
     "name": "stdout",
     "output_type": "stream",
     "text": [
      "\n",
      "Logistic regression                             Number of obs     =      6,902\n",
      "                                                LR chi2(17)       =     161.51\n",
      "                                                Prob > chi2       =     0.0000\n",
      "Log likelihood = -1235.5928                     Pseudo R2         =     0.0613\n",
      "\n",
      "-------------------------------------------------------------------------------\n",
      "      CCI_non |      Coef.   Std. Err.      z    P>|z|     [95% Conf. Interval]\n",
      "--------------+----------------------------------------------------------------\n",
      "      country |\n",
      "      Angola  |   1.730185   .7394853     2.34   0.019     .2808205     3.17955\n",
      "       Benin  |   1.473184   .7455959     1.98   0.048     .0118428    2.934525\n",
      "    Ethiopia  |   .8965639   .7482877     1.20   0.231    -.5700531    2.363181\n",
      "              |\n",
      "   0.kid_male |   .0241363   .1149054     0.21   0.834    -.2010742    .2493468\n",
      "              |\n",
      "     mat_cage |\n",
      "       13-24  |  -.1173226   .1641108    -0.71   0.475    -.4389738    .2043286\n",
      "       25-34  |  -.0614839   .1482798    -0.41   0.678     -.352107    .2291391\n",
      "              |\n",
      "   mat_wealth |\n",
      "     poorest  |   1.023235   .3251065     3.15   0.002     .3860376    1.660432\n",
      "      poorer  |   .7433899   .3251686     2.29   0.022     .1060711    1.380709\n",
      "      middle  |   .4259034   .3195064     1.33   0.183    -.2003176    1.052124\n",
      "      richer  |   .3359868    .330411     1.02   0.309    -.3116068    .9835804\n",
      "              |\n",
      "      mat_edu |\n",
      "     no_educ  |    .700144   .2634933     2.66   0.008     .1837066    1.216582\n",
      "        prim  |   .6343604   .2617483     2.42   0.015     .1213433    1.147378\n",
      "              |\n",
      "      0.rural |  -.6603957   .1646091    -4.01   0.000    -.9830236   -.3377677\n",
      "0.mat_currw~k |  -.1690643   .1447657    -1.17   0.243    -.4527999    .1146714\n",
      "              |\n",
      " media_access |\n",
      "           0  |  -.1329208    .375148    -0.35   0.723    -.8681974    .6023557\n",
      "           1  |  -.3377458   .3787167    -0.89   0.372    -1.080017    .4045252\n",
      "           2  |  -.2477229   .3742604    -0.66   0.508    -.9812598     .485814\n",
      "              |\n",
      "        _cons |   -5.14716   .8087785    -6.36   0.000    -6.732337   -3.561983\n",
      "-------------------------------------------------------------------------------\n",
      "--------------------------------------------------------------------------------\n",
      "> --------\n",
      "        Variable     Sample |    Treated     Controls   Difference         S.E. \n",
      ">   T-stat\n",
      "----------------------------+---------------------------------------------------\n",
      "> --------\n",
      "            dead  Unmatched | .159021407   .045627376    .11339403   .012391567 \n",
      ">     9.15\n",
      "                        ATT | .159021407   .051324923   .107696484   .021670552 \n",
      ">     4.97\n",
      "                        ATU | .045627376   .213824353   .168196977            . \n",
      ">        .\n",
      "                        ATE |                            .16533061            . \n",
      ">        .\n",
      "----------------------------+---------------------------------------------------\n",
      "> --------\n",
      "Note: S.E. does not take into account that the propensity score is estimated.\n",
      "\n",
      "           | psmatch2:\n",
      " psmatch2: |   Common\n",
      " Treatment |  support\n",
      "assignment | On suppor |     Total\n",
      "-----------+-----------+----------\n",
      " Untreated |     6,575 |     6,575 \n",
      "   Treated |       327 |       327 \n",
      "-----------+-----------+----------\n",
      "     Total |     6,902 |     6,902 \n"
     ]
    }
   ],
   "source": [
    "*PSM\n",
    "#delimit ;\n",
    "\tpsmatch2 CCI_non  $factors ,\n",
    "\tout(dead) logit ate  llr neighbor(5)\n",
    "\t;\n",
    "#delimit cr"
   ]
  },
  {
   "cell_type": "code",
   "execution_count": 33,
   "metadata": {
    "scrolled": true,
    "slideshow": {
     "slide_type": "slide"
    }
   },
   "outputs": [
    {
     "name": "stdout",
     "output_type": "stream",
     "text": [
      "\n",
      "--------------------------------------------------------------------------------\n",
      "> --------\n",
      "                Unmatched |       Mean               %reduct |     t-test    |  \n",
      "> V(T)/\n",
      "Variable          Matched | Treated Control    %bias  |bias| |    t    p>|t| |  \n",
      "> V(C)\n",
      "--------------------------+----------------------------------+---------------+--\n",
      "> --------\n",
      "1.country              U  | .40367   .30966     19.7         |   3.58  0.000 |  \n",
      ">    .\n",
      "                       M  | .40367   .41957     -3.3    83.1 |  -0.41  0.680 |  \n",
      ">    .\n",
      "                          |                                  |               |\n",
      "2.country              U  | .38532   .36274      4.7         |   0.83  0.407 |  \n",
      ">    .\n",
      "                       M  | .38532   .37554      2.0    56.7 |   0.26  0.797 |  \n",
      ">    .\n",
      "                          |                                  |               |\n",
      "3.country              U  | .20489   .28502    -18.7         |  -3.15  0.002 |  \n",
      ">    .\n",
      "                       M  | .20489   .20061      1.0    94.7 |   0.14  0.892 |  \n",
      ">    .\n",
      "                          |                                  |               |\n",
      "0.kid_male             U  | .49235   .48897      0.7         |   0.12  0.905 |  \n",
      ">    .\n",
      "                       M  | .49235   .49235      0.0   100.0 |  -0.00  1.000 |  \n",
      ">    .\n",
      "                          |                                  |               |\n",
      "1.mat_cage             U  | .30581   .30646     -0.1         |  -0.03  0.980 |  \n",
      ">    .\n",
      "                       M  | .30581   .33211     -5.7 -3924.6 |  -0.72  0.471 |  \n",
      ">    .\n",
      "                          |                                  |               |\n",
      "2.mat_cage             U  | .46789   .49719     -5.9         |  -1.03  0.301 |  \n",
      ">    .\n",
      "                       M  | .46789   .47278     -1.0    83.3 |  -0.13  0.900 |  \n",
      ">    .\n",
      "                          |                                  |               |\n",
      "1.mat_wealth           U  | .42508   .24943     37.8         |   7.11  0.000 |  \n",
      ">    .\n",
      "                       M  | .42508   .40612      4.1    89.2 |   0.49  0.623 |  \n",
      ">    .\n",
      "                          |                                  |               |\n",
      "2.mat_wealth           U  | .27523   .21247     14.6         |   2.70  0.007 |  \n",
      ">    .\n",
      "                       M  | .27523   .26789      1.7    88.3 |   0.21  0.833 |  \n",
      ">    .\n",
      "                          |                                  |               |\n",
      "3.mat_wealth           U  | .15902   .20897    -12.9         |  -2.18  0.029 |  \n",
      ">    .\n",
      "                       M  | .15902   .17492     -4.1    68.2 |  -0.54  0.586 |  \n",
      ">    .\n",
      "                          |                                  |               |\n",
      "4.mat_wealth           U  |  .0948   .16198    -20.2         |  -3.25  0.001 |  \n",
      ">    .\n",
      "                       M  |  .0948   .09847     -1.1    94.5 |  -0.16  0.874 |  \n",
      ">    .\n",
      "                          |                                  |               |\n",
      "0.mat_edu              U  | .65749   .51407     29.4         |   5.08  0.000 |  \n",
      ">    .\n",
      "                       M  | .65749   .65627      0.3    99.1 |   0.03  0.974 |  \n",
      ">    .\n",
      "                          |                                  |               |\n",
      "1.mat_edu              U  | .27217   .26555      1.5         |   0.26  0.791 |  \n",
      ">    .\n",
      "                       M  | .27217   .28746     -3.4  -131.0 |  -0.43  0.664 |  \n",
      ">    .\n",
      "                          |                                  |               |\n",
      "0.rural                U  | .19572   .40076    -46.0         |  -7.44  0.000 |  \n",
      ">    .\n",
      "                       M  | .19572   .19327      0.5    98.8 |   0.08  0.937 |  \n",
      ">    .\n",
      "                          |                                  |               |\n",
      "0.mat_currwork         U  | .25076   .35103    -22.0         |  -3.72  0.000 |  \n",
      ">    .\n",
      "                       M  | .25076   .23792      2.8    87.2 |   0.38  0.703 |  \n",
      ">    .\n",
      "                          |                                  |               |\n",
      "0.media_access         U  | .59327   .44304     30.4         |   5.34  0.000 |  \n",
      ">    .\n",
      "                       M  | .59327   .59205      0.2    99.2 |   0.03  0.975 |  \n",
      ">    .\n",
      "                          |                                  |               |\n",
      "1.media_access         U  | .21713   .25369     -8.6         |  -1.49  0.137 |  \n",
      ">    .\n",
      "                       M  | .21713    .2263     -2.2    74.9 |  -0.28  0.778 |  \n",
      ">    .\n",
      "                          |                                  |               |\n",
      "2.media_access         U  | .15902   .22357    -16.5         |  -2.75  0.006 |  \n",
      ">    .\n",
      "                       M  | .15902   .15413      1.2    92.4 |   0.17  0.864 |  \n",
      ">    .\n",
      "                          |                                  |               |\n",
      "--------------------------------------------------------------------------------\n",
      "> --------\n",
      "* if variance ratio outside [0.80; 1.24] for U and [0.80; 1.24] for M\n",
      "\n",
      "--------------------------------------------------------------------------------\n",
      "> ---\n",
      " Sample    | Ps R2   LR chi2   p>chi2   MeanBias   MedBias      B      R     %Va\n",
      "> r\n",
      "-----------+--------------------------------------------------------------------\n",
      "> ---\n",
      " Unmatched | 0.060    159.21    0.000     17.0      16.5      73.7*   0.66      \n",
      "> .\n",
      " Matched   | 0.004      3.83    1.000      2.0       1.7      15.3    1.16      \n",
      "> .\n",
      "--------------------------------------------------------------------------------\n",
      "> ---\n",
      "* if B>25%, R outside [0.5; 2]\n"
     ]
    }
   ],
   "source": [
    "pstest, both  graph"
   ]
  },
  {
   "cell_type": "code",
   "execution_count": 34,
   "metadata": {
    "slideshow": {
     "slide_type": "slide"
    }
   },
   "outputs": [
    {
     "data": {
      "application/pdf": "[encoded data removed]",
      "text/plain": [
       "This front-end cannot display the desired image type."
      ]
     },
     "metadata": {},
     "output_type": "display_data"
    }
   ],
   "source": [
    "graph display"
   ]
  },
  {
   "cell_type": "code",
   "execution_count": 35,
   "metadata": {
    "slideshow": {
     "slide_type": "slide"
    }
   },
   "outputs": [
    {
     "name": "stdout",
     "output_type": "stream",
     "text": [
      "\n",
      "(327 missing values generated)\n",
      "\n",
      "(327 real changes made)\n",
      "\n",
      "(327 missing values generated)\n",
      "\n",
      "(327 real changes made)\n",
      "\n",
      "(327 missing values generated)\n",
      "\n",
      "(327 real changes made)\n",
      "\n",
      "(327 missing values generated)\n",
      "\n",
      "(327 real changes made)\n",
      "\n",
      "(327 missing values generated)\n",
      "\n",
      "(327 real changes made)\n",
      "\n",
      "\n",
      "\n",
      "\n",
      "\n",
      "\n",
      "\n",
      "(5,940 observations deleted)\n"
     ]
    }
   ],
   "source": [
    "gen pair1 = _id if _treated==0\n",
    "replace pair1 = _n1 if _treated==1\n",
    "gen pair2 = _id if _treated==0\n",
    "replace pair2 = _n2 if _treated==1\n",
    "gen pair3 = _id if _treated==0\n",
    "replace pair3 = _n3 if _treated==1\n",
    "gen pair4 = _id if _treated==0\n",
    "replace pair4 = _n4 if _treated==1\n",
    "gen pair5 = _id if _treated==0\n",
    "replace pair5 = _n5 if _treated==1\n",
    "\n",
    "bysort pair1: egen paircount1 = count(pair1)\n",
    "bysort pair2: egen paircount2 = count(pair2)\n",
    "bysort pair3: egen paircount3 = count(pair3)\n",
    "bysort pair4: egen paircount4 = count(pair4)\n",
    "bysort pair5: egen paircount5 = count(pair5)\n",
    "egen byte paircount = anycount(paircount1 paircount2 paircount3 paircount4  paircount5), values(2)\n",
    "drop if paircount==0"
   ]
  },
  {
   "cell_type": "code",
   "execution_count": 36,
   "metadata": {
    "slideshow": {
     "slide_type": "slide"
    }
   },
   "outputs": [
    {
     "name": "stdout",
     "output_type": "stream",
     "text": [
      "\n",
      "  psmatch2: |\n",
      "  Treatment |\n",
      " assignment |      Freq.     Percent        Cum.\n",
      "------------+-----------------------------------\n",
      "  Untreated |        796       82.74       82.74\n",
      "    Treated |        166       17.26      100.00\n",
      "------------+-----------------------------------\n",
      "      Total |        962      100.00\n"
     ]
    }
   ],
   "source": [
    "tab _treated"
   ]
  },
  {
   "cell_type": "code",
   "execution_count": 37,
   "metadata": {
    "slideshow": {
     "slide_type": "slide"
    }
   },
   "outputs": [
    {
     "name": "stdout",
     "output_type": "stream",
     "text": [
      "\n",
      "                 | psmatch2: Treatment    |\n",
      "                 | assignment             |\n",
      "                 |   Exposed   Unexposed  |      Total\n",
      "-----------------+------------------------+-----------\n",
      "           Cases |        26          30  |         56\n",
      "        Noncases |       140         766  |        906\n",
      "-----------------+------------------------+-----------\n",
      "           Total |       166         796  |        962\n",
      "                 |                        |\n",
      "            Risk |  .1566265    .0376884  |   .0582121\n",
      "                 |                        |\n",
      "                 |      Point estimate    |    [95% Conf. Interval]\n",
      "                 |------------------------+------------------------\n",
      " Risk difference |         .1189381       |    .0620885    .1757876 \n",
      "      Risk ratio |         4.155823       |    2.526122    6.836908 \n",
      " Attr. frac. ex. |         .7593738       |    .6041364    .8537351 \n",
      " Attr. frac. pop |         .3525664       |\n",
      "                 +-------------------------------------------------\n",
      "                               chi2(1) =    35.44  Pr>chi2 = 0.0000\n"
     ]
    }
   ],
   "source": [
    "cs  dead _treated"
   ]
  },
  {
   "cell_type": "markdown",
   "metadata": {
    "slideshow": {
     "slide_type": "slide"
    }
   },
   "source": [
    "# Proportion of childhood mortality cases attributable to non-access to Universal Health Coverage: a microcosm analysis of sub-Saharan Africa "
   ]
  },
  {
   "cell_type": "markdown",
   "metadata": {
    "slideshow": {
     "slide_type": "slide"
    }
   },
   "source": [
    "- The potential attributable fraction (PAF) measure was calculated as the number of excess incident childhood death among those with access to UHC divided by the total number of estimated incident childhood death among those with no access to UHC.  \n",
    "\n",
    "- The PAF describes the proportion of childhood mortality that could hypothetically be prevented if the mother has access to UHC health service indicators.  \n",
    "\n",
    "- We also calculated potential impact fraction, avoidable burden refers to the potential reduction in future burden of disease or health outcome that could be attained by changing the current distribution of risk factors to an alternative distribution of risk factors. \n",
    "\n",
    "- We used theoretical minimum risk which refers to the exposure distribution that would result in the lowest population-level risk, regardless of whether currently achievable.\n"
   ]
  },
  {
   "cell_type": "markdown",
   "metadata": {
    "slideshow": {
     "slide_type": "slide"
    }
   },
   "source": [
    "<img src=\"./paf1.png\" />"
   ]
  },
  {
   "cell_type": "markdown",
   "metadata": {
    "slideshow": {
     "slide_type": "slide"
    }
   },
   "source": [
    "<img src=\"./paf2.png\"/>"
   ]
  },
  {
   "cell_type": "markdown",
   "metadata": {
    "slideshow": {
     "slide_type": "slide"
    }
   },
   "source": [
    "<img src=\"./paf3.png\"  />"
   ]
  },
  {
   "cell_type": "code",
   "execution_count": 38,
   "metadata": {
    "slideshow": {
     "slide_type": "slide"
    }
   },
   "outputs": [],
   "source": [
    "global factors \"i.country mat_hinsur i.kid_male i.mat_cage i.mat_wealth  i.rural i.mat_currwork i.media_access\""
   ]
  },
  {
   "cell_type": "code",
   "execution_count": 39,
   "metadata": {
    "slideshow": {
     "slide_type": "slide"
    }
   },
   "outputs": [
    {
     "name": "stdout",
     "output_type": "stream",
     "text": [
      "\n",
      "note: 4.country != 0 predicts failure perfectly\n",
      "      4.country dropped and 7 obs not used\n",
      "\n",
      "Iteration 0:   log likelihood = -213.16119  \n",
      "Iteration 1:   log likelihood = -199.45972  \n",
      "Iteration 2:   log likelihood = -190.08857  \n",
      "Iteration 3:   log likelihood = -190.03601  \n",
      "Iteration 4:   log likelihood = -190.03596  \n",
      "Iteration 5:   log likelihood = -190.03596  \n",
      "\n",
      "Logistic regression                             Number of obs     =        955\n",
      "                                                LR chi2(16)       =      46.25\n",
      "                                                Prob > chi2       =     0.0001\n",
      "Log likelihood = -190.03596                     Pseudo R2         =     0.1085\n",
      "\n",
      "-------------------------------------------------------------------------------\n",
      "         dead | Odds Ratio   Std. Err.      z    P>|z|     [95% Conf. Interval]\n",
      "--------------+----------------------------------------------------------------\n",
      "         nUHC |   5.235968   1.537676     5.64   0.000     2.944556    9.310523\n",
      "              |\n",
      "      country |\n",
      "       Benin  |   .9558491   .3303299    -0.13   0.896     .4855393    1.881717\n",
      "    Ethiopia  |   .8334325    .382388    -0.40   0.691     .3391015    2.048383\n",
      " SouthAfrica  |          1  (empty)\n",
      "              |\n",
      "   mat_hinsur |   2.671604   2.161066     1.21   0.224       .54731      13.041\n",
      "   1.kid_male |   1.430412   .4232747     1.21   0.226     .8009054    2.554707\n",
      "              |\n",
      "     mat_cage |\n",
      "       25-34  |   1.044644   .3649301     0.13   0.901     .5267622    2.071679\n",
      "       35-49  |   1.176122   .4778409     0.40   0.690      .530422    2.607852\n",
      "              |\n",
      "   mat_wealth |\n",
      "      poorer  |   2.265262   .9238728     2.00   0.045       1.0185    5.038202\n",
      "      middle  |   1.135848   .5311747     0.27   0.785     .4542129    2.840411\n",
      "      richer  |   1.586849    .835309     0.88   0.380     .5655454    4.452497\n",
      "     richest  |   1.530255     1.0034     0.65   0.516     .4232765    5.532269\n",
      "              |\n",
      "      1.rural |   .8671644   .2974265    -0.42   0.678     .4427413    1.698451\n",
      "1.mat_currw~k |   2.126202   .8519074     1.88   0.060      .969511    4.662901\n",
      "              |\n",
      " media_access |\n",
      "           1  |   .8873302   .3259572    -0.33   0.745     .4319165    1.822933\n",
      "           2  |   .5713658   .2560349    -1.25   0.212     .2374007    1.375138\n",
      "           3  |   1.695868   .9575931     0.94   0.350     .5607258    5.129011\n",
      "              |\n",
      "        _cons |   .0142781   .0092164    -6.58   0.000     .0040293    .0505958\n",
      "-------------------------------------------------------------------------------\n",
      "Note: _cons estimates baseline odds.\n"
     ]
    }
   ],
   "source": [
    "logit dead  nUHC $factors, or"
   ]
  },
  {
   "cell_type": "markdown",
   "metadata": {
    "slideshow": {
     "slide_type": "slide"
    }
   },
   "source": [
    "## Population attributable risk (PAR)"
   ]
  },
  {
   "cell_type": "code",
   "execution_count": 40,
   "metadata": {
    "slideshow": {
     "slide_type": "slide"
    }
   },
   "outputs": [
    {
     "name": "stdout",
     "output_type": "stream",
     "text": [
      "Scenario 0: (asobserved) _all\n",
      "Scenario 1: nUHC=0\n",
      "Symmetric confidence intervals for the logit proportions\n",
      "under Scenario 0 and Scenario 1\n",
      "and for the z-transformed population attributable risk (PAR)\n",
      "Total number of observations used: 955\n",
      "------------------------------------------------------------------------------\n",
      "             |      Coef.   Std. Err.      z    P>|z|     [95% Conf. Interval]\n",
      "-------------+----------------------------------------------------------------\n",
      "  Scenario_0 |  -2.775931   .1330844   -20.86   0.000    -3.036772   -2.515091\n",
      "  Scenario_1 |  -3.241028   .1848111   -17.54   0.000    -3.603252   -2.878805\n",
      "         PAR |   .0209912   .0049207     4.27   0.000     .0113469    .0306355\n",
      "------------------------------------------------------------------------------\n",
      "\n",
      "Asymmetric 95% CIs for the untransformed proportions\n",
      "under Scenario 0 and Scenario 1\n",
      "and for the untransformed population attributable risk (PAR)\n",
      "                Estimate     Minimum     Maximum \n",
      "  Scenario_0   .05863874   .04579201   .07480702 \n",
      "  Scenario_1   .03765061   .02651294    .0532113 \n",
      "         PAR   .02098813   .01134642   .03062594 \n"
     ]
    }
   ],
   "source": [
    "regpar, at(nUHC=0)\n"
   ]
  },
  {
   "cell_type": "code",
   "execution_count": null,
   "metadata": {
    "slideshow": {
     "slide_type": "slide"
    }
   },
   "outputs": [],
   "source": [
    "Asymmetric 95% CIs for the untransformed proportions\n",
    "under Scenario 0 and Scenario 1\n",
    "and for the untransformed population attributable risk (PAR)\n",
    "                Estimate     Minimum     Maximum \n",
    "  Scenario_0   .05863874   .04579201   .07480702 \n",
    "  Scenario_1   .03765061   .02651294    .0532113 \n",
    "         PAR   .02098813   .01134642   .03062594 \n",
    "\n",
    "- In current (factual) scenario, the childhood mortality was 59 per 1000 \n",
    "- but in the theoretical minimum scenario, the childhood mortality was 38 per \n",
    "- The proportion of childhood deaths that would have been avoided if all mother had access to UHC was 2.1%, \n",
    "suggesting that excess 21 childhood death could have been avoided for every 1000 children.\n"
   ]
  },
  {
   "cell_type": "code",
   "execution_count": null,
   "metadata": {
    "slideshow": {
     "slide_type": "slide"
    }
   },
   "outputs": [],
   "source": [
    "Asymmetric 95% CIs for the untransformed proportions\n",
    "under Scenario 0 and Scenario 1\n",
    "and for the untransformed population attributable risk (PAR)\n",
    "                Estimate     Minimum     Maximum \n",
    "  Scenario_0   .05863874   .04579201   .07480702 \n",
    "  Scenario_1   .03765061   .02651294    .0532113 \n",
    "         PAR   .02098813   .01134642   .03062594 \n",
    "\n",
    "We see that in the real world (Scenario 0), 5.9% of children are expected to die before the 5th birthday but \n",
    "that in the dream scenario where all mother have access to UHC (Scenario 1), \n",
    "only 3.8% of children are expected to die before the 5th birthday. \n",
    "The diﬀerence between these scenario percentages (PAR) is 2.1%, \n",
    "with conﬁdence limits from 3.2% to 13.5%. \n",
    "\n",
    "The PAR can be interpreted as the proportion of all babies that have low birthweight because \n",
    "they were born in scenario 0 instead of in scenario 1."
   ]
  },
  {
   "cell_type": "code",
   "execution_count": null,
   "metadata": {
    "slideshow": {
     "slide_type": "slide"
    }
   },
   "outputs": [],
   "source": [
    "regpar, at(nUHC=0) subpop(if rural ==1)\n",
    "regpar, at(nUHC=0) subpop(if rural ==0)"
   ]
  },
  {
   "cell_type": "code",
   "execution_count": null,
   "metadata": {
    "slideshow": {
     "slide_type": "slide"
    }
   },
   "outputs": [],
   "source": [
    "regpar, at(nUHC=0) subpop(if country == 1)\n",
    "regpar, at(nUHC=0) subpop(if country == 2)\n",
    "regpar, at(nUHC=0) subpop(if country == 3)\n",
    "regpar, at(nUHC=0) subpop(if country == 4)"
   ]
  },
  {
   "cell_type": "markdown",
   "metadata": {
    "slideshow": {
     "slide_type": "slide"
    }
   },
   "source": [
    "## Potential Impact Fraction"
   ]
  },
  {
   "cell_type": "code",
   "execution_count": 41,
   "metadata": {
    "slideshow": {
     "slide_type": "slide"
    }
   },
   "outputs": [
    {
     "name": "stdout",
     "output_type": "stream",
     "text": [
      "\n",
      "Iteration 0:   log likelihood =  -213.5826  \n",
      "Iteration 1:   log likelihood = -206.09556  \n",
      "Iteration 2:   log likelihood = -199.85003  \n",
      "Iteration 3:   log likelihood = -199.82902  \n",
      "Iteration 4:   log likelihood = -199.82901  \n",
      "\n",
      "Logistic regression                             Number of obs     =        962\n",
      "                                                LR chi2(1)        =      27.51\n",
      "                                                Prob > chi2       =     0.0000\n",
      "Log likelihood = -199.82901                     Pseudo R2         =     0.0644\n",
      "\n",
      "------------------------------------------------------------------------------\n",
      "        dead | Odds Ratio   Std. Err.      z    P>|z|     [95% Conf. Interval]\n",
      "-------------+----------------------------------------------------------------\n",
      "        nUHC |   4.741905   1.343251     5.49   0.000     2.721642    8.261801\n",
      "       _cons |   .0391645   .0072891   -17.41   0.000     .0271939    .0564045\n",
      "------------------------------------------------------------------------------\n",
      "Note: _cons estimates baseline odds.\n"
     ]
    }
   ],
   "source": [
    "logit dead  nUHC `factor', or"
   ]
  },
  {
   "cell_type": "code",
   "execution_count": 42,
   "metadata": {
    "slideshow": {
     "slide_type": "slide"
    }
   },
   "outputs": [
    {
     "name": "stdout",
     "output_type": "stream",
     "text": [
      "Scenario 0: (asobserved) _all\n",
      "Scenario 1: nUHC=0\n",
      "Confidence intervals for the means under Scenario 0 and Scenario 1\n",
      "and for the population unattributable faction (PUF)\n",
      "Total number of observations used: 962\n",
      "------------------------------------------------------------------------------\n",
      "             | Mean/Ratio   Std. Err.      z    P>|z|     [95% Conf. Interval]\n",
      "-------------+----------------------------------------------------------------\n",
      "  Scenario_0 |   .0582121   .0074087   -22.34   0.000     .0453606    .0747045\n",
      "  Scenario_1 |   .0376884     .00675   -18.30   0.000     .0265312    .0535376\n",
      "         PUF |   .6474336     .07635    -3.69   0.000     .5138252    .8157837\n",
      "------------------------------------------------------------------------------\n",
      "\n",
      "95% CI for the population attributable fraction (PAF)\n",
      "                Estimate     Minimum     Maximum \n",
      "         PAF   .35256644    .1842163    .4861748 \n"
     ]
    }
   ],
   "source": [
    "punaf, at(nUHC=0) eform\n",
    "\n",
    "*13.9% of the ‘disease burden’ of childhood mortality might be eliminated by providing access to UHC health service indicators to all child, with confidence limits from 8.9% to 18.5%. "
   ]
  },
  {
   "cell_type": "code",
   "execution_count": null,
   "metadata": {
    "slideshow": {
     "slide_type": "slide"
    }
   },
   "outputs": [],
   "source": [
    "Scenario 0: (asobserved) _all\n",
    "Scenario 1: nUHC=0\n",
    "Confidence intervals for the means under Scenario 0 and Scenario 1\n",
    "and for the population unattributable faction (PUF)\n",
    "Total number of observations used: 962\n",
    "------------------------------------------------------------------------------\n",
    "             | Mean/Ratio   Std. Err.      z    P>|z|     [95% Conf. Interval]\n",
    "-------------+----------------------------------------------------------------\n",
    "  Scenario_0 |   .0582121   .0074087   -22.34   0.000     .0453606    .0747045\n",
    "  Scenario_1 |   .0376884     .00675   -18.30   0.000     .0265312    .0535376\n",
    "         PUF |   .6474336     .07635    -3.69   0.000     .5138252    .8157837\n",
    "------------------------------------------------------------------------------\n",
    "\n",
    "95% CI for the population attributable fraction (PAF)\n",
    "                Estimate     Minimum     Maximum \n",
    "         PAF   .35256644    .1842163    .4861748 \n",
    "\n",
    "- 35.2% of the ‘disease burden’ of childhood mortality might be eliminated by providing access to \n",
    "UHC health service indicators to all child, with confidence limits from 18.4% to 48.6%. "
   ]
  },
  {
   "cell_type": "code",
   "execution_count": null,
   "metadata": {
    "slideshow": {
     "slide_type": "slide"
    }
   },
   "outputs": [],
   "source": [
    "punaf, at(nUHC=0) eform subpop(if rural ==1)\n",
    "punaf, at(nUHC=0) eform subpop(if rural ==0)"
   ]
  },
  {
   "cell_type": "code",
   "execution_count": null,
   "metadata": {
    "slideshow": {
     "slide_type": "slide"
    }
   },
   "outputs": [],
   "source": [
    "punaf, at(nUHC=0) eform subpop(if country == 1)\n",
    "punaf, at(nUHC=0) eform subpop(if country == 2)\n",
    "punaf, at(nUHC=0) eform subpop(if country == 3)\n",
    "punaf, at(nUHC=0) eform subpop(if country == 4)"
   ]
  },
  {
   "cell_type": "code",
   "execution_count": null,
   "metadata": {},
   "outputs": [],
   "source": []
  }
 ],
 "metadata": {
  "celltoolbar": "Slideshow",
  "kernelspec": {
   "display_name": "Stata",
   "language": "stata",
   "name": "stata"
  },
  "language_info": {
   "codemirror_mode": "stata",
   "file_extension": ".do",
   "mimetype": "text/x-stata",
   "name": "stata",
   "version": "15.1"
  },
  "toc": {
   "base_numbering": 1,
   "nav_menu": {},
   "number_sections": true,
   "sideBar": true,
   "skip_h1_title": false,
   "title_cell": "Table of Contents",
   "title_sidebar": "Contents",
   "toc_cell": false,
   "toc_position": {},
   "toc_section_display": true,
   "toc_window_display": false
  }
 },
 "nbformat": 4,
 "nbformat_minor": 4
}
